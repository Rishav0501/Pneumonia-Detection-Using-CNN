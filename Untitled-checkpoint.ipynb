{
 "cells": [
  {
   "cell_type": "code",
   "execution_count": 88,
   "id": "968e5f94",
   "metadata": {},
   "outputs": [],
   "source": [
    "import warnings\n",
    "warnings.filterwarnings('ignore')"
   ]
  },
  {
   "cell_type": "code",
   "execution_count": 89,
   "id": "cf6c65b7",
   "metadata": {},
   "outputs": [],
   "source": [
    "from tensorflow import keras"
   ]
  },
  {
   "cell_type": "code",
   "execution_count": 90,
   "id": "58c35f89",
   "metadata": {},
   "outputs": [],
   "source": [
    "from keras.layers import Input, Lambda, Dense, Flatten"
   ]
  },
  {
   "cell_type": "code",
   "execution_count": 91,
   "id": "01628c36",
   "metadata": {},
   "outputs": [],
   "source": [
    "from keras.models import Model\n",
    "from keras.applications.vgg16 import VGG16\n",
    "from keras.applications.vgg16 import preprocess_input\n",
    "from keras.preprocessing import image\n",
    "from keras.preprocessing.image import ImageDataGenerator\n",
    "from keras.models import Sequential\n",
    "import numpy as np\n",
    "from glob import glob\n",
    "import matplotlib.pyplot as plt"
   ]
  },
  {
   "cell_type": "code",
   "execution_count": 92,
   "id": "973581f8",
   "metadata": {},
   "outputs": [],
   "source": [
    "IMAGE_SIZE = [224, 224]\n",
    "\n",
    "train_path = 'Datasets/archive/chest_xray/train'\n",
    "test_path = 'Datasets/archive/chest_xray/test'"
   ]
  },
  {
   "cell_type": "code",
   "execution_count": 93,
   "id": "09a983fe",
   "metadata": {},
   "outputs": [],
   "source": [
    "vgg = VGG16(input_shape=IMAGE_SIZE + [3], weights='imagenet', include_top=False)"
   ]
  },
  {
   "cell_type": "code",
   "execution_count": 94,
   "id": "16b3e46d",
   "metadata": {},
   "outputs": [],
   "source": [
    "for layer in vgg.layers:\n",
    "    layer.trainable = False"
   ]
  },
  {
   "cell_type": "code",
   "execution_count": 95,
   "id": "697b0f66",
   "metadata": {},
   "outputs": [],
   "source": [
    "folders = glob('Datasets/archive/chest_xray/train/*')\n",
    "x = Flatten()(vgg.output)"
   ]
  },
  {
   "cell_type": "code",
   "execution_count": 96,
   "id": "38c6d769",
   "metadata": {},
   "outputs": [
    {
     "name": "stdout",
     "output_type": "stream",
     "text": [
      "Model: \"model_5\"\n",
      "_________________________________________________________________\n",
      " Layer (type)                Output Shape              Param #   \n",
      "=================================================================\n",
      " input_8 (InputLayer)        [(None, 224, 224, 3)]     0         \n",
      "                                                                 \n",
      " block1_conv1 (Conv2D)       (None, 224, 224, 64)      1792      \n",
      "                                                                 \n",
      " block1_conv2 (Conv2D)       (None, 224, 224, 64)      36928     \n",
      "                                                                 \n",
      " block1_pool (MaxPooling2D)  (None, 112, 112, 64)      0         \n",
      "                                                                 \n",
      " block2_conv1 (Conv2D)       (None, 112, 112, 128)     73856     \n",
      "                                                                 \n",
      " block2_conv2 (Conv2D)       (None, 112, 112, 128)     147584    \n",
      "                                                                 \n",
      " block2_pool (MaxPooling2D)  (None, 56, 56, 128)       0         \n",
      "                                                                 \n",
      " block3_conv1 (Conv2D)       (None, 56, 56, 256)       295168    \n",
      "                                                                 \n",
      " block3_conv2 (Conv2D)       (None, 56, 56, 256)       590080    \n",
      "                                                                 \n",
      " block3_conv3 (Conv2D)       (None, 56, 56, 256)       590080    \n",
      "                                                                 \n",
      " block3_pool (MaxPooling2D)  (None, 28, 28, 256)       0         \n",
      "                                                                 \n",
      " block4_conv1 (Conv2D)       (None, 28, 28, 512)       1180160   \n",
      "                                                                 \n",
      " block4_conv2 (Conv2D)       (None, 28, 28, 512)       2359808   \n",
      "                                                                 \n",
      " block4_conv3 (Conv2D)       (None, 28, 28, 512)       2359808   \n",
      "                                                                 \n",
      " block4_pool (MaxPooling2D)  (None, 14, 14, 512)       0         \n",
      "                                                                 \n",
      " block5_conv1 (Conv2D)       (None, 14, 14, 512)       2359808   \n",
      "                                                                 \n",
      " block5_conv2 (Conv2D)       (None, 14, 14, 512)       2359808   \n",
      "                                                                 \n",
      " block5_conv3 (Conv2D)       (None, 14, 14, 512)       2359808   \n",
      "                                                                 \n",
      " block5_pool (MaxPooling2D)  (None, 7, 7, 512)         0         \n",
      "                                                                 \n",
      " flatten_5 (Flatten)         (None, 25088)             0         \n",
      "                                                                 \n",
      " dense_5 (Dense)             (None, 2)                 50178     \n",
      "                                                                 \n",
      "=================================================================\n",
      "Total params: 14,764,866\n",
      "Trainable params: 50,178\n",
      "Non-trainable params: 14,714,688\n",
      "_________________________________________________________________\n"
     ]
    }
   ],
   "source": [
    "prediction = Dense(len(folders), activation='softmax')(x)\n",
    "# create a model object\n",
    "model = Model(inputs=vgg.input, outputs=prediction)\n",
    "# view the structure of the model\n",
    "model.summary()"
   ]
  },
  {
   "cell_type": "code",
   "execution_count": 97,
   "id": "66a73d92",
   "metadata": {},
   "outputs": [],
   "source": [
    "model.compile(\n",
    "  loss='categorical_crossentropy',\n",
    "  optimizer='adam',\n",
    "  metrics=['accuracy']\n",
    ")"
   ]
  },
  {
   "cell_type": "code",
   "execution_count": 98,
   "id": "d257531e",
   "metadata": {},
   "outputs": [],
   "source": [
    "from keras.preprocessing.image import ImageDataGenerator"
   ]
  },
  {
   "cell_type": "code",
   "execution_count": 99,
   "id": "1dd57466",
   "metadata": {},
   "outputs": [
    {
     "name": "stdout",
     "output_type": "stream",
     "text": [
      "Found 5216 images belonging to 2 classes.\n",
      "Found 624 images belonging to 2 classes.\n"
     ]
    }
   ],
   "source": [
    "train_datagen = ImageDataGenerator(rescale = 1./255,\n",
    "                                   shear_range = 0.2,\n",
    "                                   zoom_range = 0.2,\n",
    "                                   horizontal_flip = True)\n",
    "\n",
    "test_datagen = ImageDataGenerator(rescale = 1./255)\n",
    "\n",
    "\n",
    "\n",
    "\n",
    "# Make sure you provide the same target size as initialied for the image size\n",
    "training_set = train_datagen.flow_from_directory('Datasets/archive/chest_xray/train',\n",
    "                                                 target_size = (224, 224),\n",
    "                                                 batch_size = 10,\n",
    "                                                 class_mode = 'categorical')\n",
    "\n",
    "\n",
    "\n",
    "\n",
    "test_set = test_datagen.flow_from_directory('Datasets/archive/chest_xray/test',\n",
    "                                            target_size = (224, 224),\n",
    "                                            batch_size = 10,\n",
    "                                            class_mode = 'categorical')"
   ]
  },
  {
   "cell_type": "code",
   "execution_count": 100,
   "id": "898728cc",
   "metadata": {},
   "outputs": [
    {
     "name": "stdout",
     "output_type": "stream",
     "text": [
      "522/522 [==============================] - 1414s 3s/step - loss: 0.1881 - accuracy: 0.9344 - val_loss: 0.3044 - val_accuracy: 0.9087\n"
     ]
    }
   ],
   "source": [
    "r = model.fit_generator(\n",
    "  training_set,\n",
    "  validation_data=test_set,\n",
    "  epochs=1,\n",
    "  steps_per_epoch=len(training_set),\n",
    "  validation_steps=len(test_set)\n",
    ")"
   ]
  },
  {
   "cell_type": "code",
   "execution_count": 138,
   "id": "d4f6cb2c",
   "metadata": {},
   "outputs": [],
   "source": [
    "import tensorflow as tf\n",
    "from keras.models import load_model\n",
    "\n",
    "model.save('chest_xray.h5')"
   ]
  },
  {
   "cell_type": "code",
   "execution_count": 139,
   "id": "410a9bd8",
   "metadata": {},
   "outputs": [],
   "source": [
    "import tensorflow.keras.preprocessing.image\n",
    "from keras.models import load_model"
   ]
  },
  {
   "cell_type": "code",
   "execution_count": 140,
   "id": "6002dedf",
   "metadata": {},
   "outputs": [],
   "source": [
    "from keras.preprocessing import image"
   ]
  },
  {
   "cell_type": "code",
   "execution_count": 141,
   "id": "fc7e699b",
   "metadata": {},
   "outputs": [],
   "source": [
    "\n",
    "from keras.applications.vgg16 import preprocess_input"
   ]
  },
  {
   "cell_type": "code",
   "execution_count": 142,
   "id": "ca22f000",
   "metadata": {},
   "outputs": [],
   "source": [
    "import numpy as np\n",
    "import tensorflow.compat.v2 as tf\n",
    "from tensorflow.keras.utils import load_img, img_to_array"
   ]
  },
  {
   "cell_type": "code",
   "execution_count": 143,
   "id": "0b04e391",
   "metadata": {},
   "outputs": [],
   "source": [
    "model=load_model('chest_xray.h5')"
   ]
  },
  {
   "cell_type": "code",
   "execution_count": 144,
   "id": "8de6e4bc",
   "metadata": {
    "scrolled": true
   },
   "outputs": [],
   "source": [
    "img=tf.keras.utils.load_img('C:\\\\Users\\\\Rohit Thakur\\\\Desktop\\\\sem 7\\\\Datasets\\\\archive\\\\chest_xray\\\\chest_xray\\\\val\\\\NORMAL\\\\NORMAL2-IM-1427-0001.jpeg',target_size=(224,224))"
   ]
  },
  {
   "cell_type": "code",
   "execution_count": 146,
   "id": "d076891a",
   "metadata": {},
   "outputs": [],
   "source": [
    "x=tf.keras.utils.img_to_array(img)"
   ]
  },
  {
   "cell_type": "code",
   "execution_count": 147,
   "id": "8484333d",
   "metadata": {},
   "outputs": [],
   "source": [
    "x=np.expand_dims(x, axis=0)"
   ]
  },
  {
   "cell_type": "code",
   "execution_count": 148,
   "id": "ea2d93fb",
   "metadata": {},
   "outputs": [],
   "source": [
    "img_data=preprocess_input(x)"
   ]
  },
  {
   "cell_type": "code",
   "execution_count": 149,
   "id": "8b73710e",
   "metadata": {},
   "outputs": [
    {
     "name": "stdout",
     "output_type": "stream",
     "text": [
      "1/1 [==============================] - 4s 4s/step\n"
     ]
    }
   ],
   "source": [
    "classes=model.predict(img_data)"
   ]
  },
  {
   "cell_type": "code",
   "execution_count": 150,
   "id": "605dd08e",
   "metadata": {},
   "outputs": [],
   "source": [
    "result=int(classes[0][0])"
   ]
  },
  {
   "cell_type": "code",
   "execution_count": 151,
   "id": "a9e19d23",
   "metadata": {},
   "outputs": [
    {
     "name": "stdout",
     "output_type": "stream",
     "text": [
      "Result is Normal\n"
     ]
    }
   ],
   "source": [
    "if result==0:\n",
    "    print(\"Person is Affected By PNEUMONIA\")\n",
    "else:\n",
    "    print(\"Result is Normal\")"
   ]
  },
  {
   "cell_type": "code",
   "execution_count": 153,
   "id": "abebaeb8",
   "metadata": {},
   "outputs": [],
   "source": [
    "\n",
    "import streamlit as st"
   ]
  },
  {
   "cell_type": "code",
   "execution_count": null,
   "id": "4fc34010",
   "metadata": {},
   "outputs": [],
   "source": [
    "import warnings\n",
    "from PIL import Image, ImageEnhance\n",
    "warnings.filterwarnings('ignore')\n",
    "import tensorflow as tf\n",
    "from keras.models import load_model\n",
    "from keras.applications.vgg16 import preprocess_input\n",
    "import numpy as np\n",
    "from keras.preprocessing import image\n",
    "\n",
    "from PyQt5 import QtCore, QtGui, QtWidgets\n",
    "from PyQt5.QtWidgets import QFileDialog\n",
    "from PyQt5.QtGui import QMovie\n",
    "from PyQt5.QtWidgets import QMessageBox\n",
    "\n",
    "from win32com.client import Dispatch\n",
    "\n",
    "\n",
    "def speak(str1):\n",
    "    speak=Dispatch((\"SAPI.SpVoice\"))\n",
    "    speak.Speak(str1)\n",
    "\n",
    "class Ui_MainWindow(object):\n",
    "    def setupUi(self, MainWindow):\n",
    "        MainWindow.setObjectName(\"MainWindow\")\n",
    "        MainWindow.resize(695, 609)\n",
    "        self.centralwidget = QtWidgets.QWidget(MainWindow)\n",
    "        self.centralwidget.setObjectName(\"centralwidget\")\n",
    "        self.frame = QtWidgets.QFrame(self.centralwidget)\n",
    "        self.frame.setGeometry(QtCore.QRect(0, 0, 701, 611))\n",
    "        self.frame.setStyleSheet(\"background-color: #035874;\")\n",
    "        self.frame.setFrameShape(QtWidgets.QFrame.StyledPanel)\n",
    "        self.frame.setFrameShadow(QtWidgets.QFrame.Raised)\n",
    "        self.frame.setObjectName(\"frame\")\n",
    "        self.label = QtWidgets.QLabel(self.frame)\n",
    "        self.label.setGeometry(QtCore.QRect(80, -60, 541, 561))\n",
    "        self.label.setText(\"\")\n",
    "        self.gif=QMovie(\"picture.gif\")\n",
    "        self.label.setMovie(self.gif)\n",
    "        self.gif.start()\n",
    "        self.label.setObjectName(\"label\")\n",
    "        self.label_2 = QtWidgets.QLabel(self.frame)\n",
    "        self.label_2.setGeometry(QtCore.QRect(80, 430, 591, 41))\n",
    "        font = QtGui.QFont()\n",
    "        font.setPointSize(24)\n",
    "        font.setBold(True)\n",
    "        font.setWeight(75)\n",
    "        self.label_2.setFont(font)\n",
    "        self.label_2.setObjectName(\"label_2\")\n",
    "        self.pushButton = QtWidgets.QPushButton(self.frame)\n",
    "        self.pushButton.setGeometry(QtCore.QRect(30, 530, 201, 31))\n",
    "        font = QtGui.QFont()\n",
    "        font.setPointSize(12)\n",
    "        font.setBold(True)\n",
    "        font.setWeight(75)\n",
    "        icon = QtGui.QIcon()\n",
    "        icon.addPixmap(QtGui.QPixmap(\"patient.png\"), QtGui.QIcon.Normal, QtGui.QIcon.Off)\n",
    "        MainWindow.setWindowIcon(icon)\n",
    "        self.pushButton.setFont(font)\n",
    "        self.pushButton.setStyleSheet(\"QPushButton{\\n\"\n",
    "\"border-radius: 10px;\\n\"\n",
    "\" background-color:#DF582C;\\n\"\n",
    "\"\\n\"\n",
    "\"}\\n\"\n",
    "\"QPushButton:hover {\\n\"\n",
    "\" background-color: #7D93E0;\\n\"\n",
    "\"}\")\n",
    "        self.pushButton.setObjectName(\"pushButton\")\n",
    "        self.pushButton_2 = QtWidgets.QPushButton(self.frame)\n",
    "        self.pushButton_2.setGeometry(QtCore.QRect(450, 530, 201, 31))\n",
    "        font = QtGui.QFont()\n",
    "        font.setPointSize(12)\n",
    "        font.setBold(True)\n",
    "        font.setWeight(75)\n",
    "        self.pushButton_2.setFont(font)\n",
    "        self.pushButton_2.setStyleSheet(\"QPushButton{\\n\"\n",
    "\"border-radius: 10px;\\n\"\n",
    "\" background-color:#DF582C;\\n\"\n",
    "\"\\n\"\n",
    "\"}\\n\"\n",
    "\"QPushButton:hover {\\n\"\n",
    "\" background-color: #7D93E0;\\n\"\n",
    "\"}\")\n",
    "        self.pushButton_2.setObjectName(\"pushButton_2\")\n",
    "        MainWindow.setCentralWidget(self.centralwidget)\n",
    "\n",
    "        self.retranslateUi(MainWindow)\n",
    "        QtCore.QMetaObject.connectSlotsByName(MainWindow)\n",
    "        self.pushButton.clicked.connect(self.upload_image)\n",
    "        self.pushButton_2.clicked.connect(self.predict_result)\n",
    "\n",
    "    def retranslateUi(self, MainWindow):\n",
    "        _translate = QtCore.QCoreApplication.translate\n",
    "        MainWindow.setWindowTitle(_translate(\"MainWindow\", \"PNEUMONIA Detection Apps\"))\n",
    "        self.label.setToolTip(_translate(\"MainWindow\", \"<html><head/><body><p><img src=\\\":/newPrefix/picture.gif\\\"/></p></body></html>\"))\n",
    "        self.label_2.setText(_translate(\"MainWindow\", \"Chest X_ray PNEUMONIA Detection\"))\n",
    "        self.pushButton.setText(_translate(\"MainWindow\", \"Upload Image\"))\n",
    "        self.pushButton_2.setText(_translate(\"MainWindow\", \"Prediction\"))\n",
    "    def upload_image(self):\n",
    "        filename=QFileDialog.getOpenFileName()\n",
    "        path=filename[0]\n",
    "        path=str(path)\n",
    "        print(path)\n",
    "        model=load_model('chest_xray.h5') \n",
    "        img_file=image.load_img(path,target_size=(224,224))\n",
    "        x=image.img_to_array(img_file)\n",
    "        x=np.expand_dims(x, axis=0)\n",
    "        img_data=preprocess_input(x)\n",
    "        classes=model.predict(img_data)\n",
    "        global result\n",
    "        result=classes\n",
    "\n",
    "    def predict_result(self):\n",
    "        print(result)\n",
    "        if result[0][0]>0.5:\n",
    "            print(\"Result is Normal\")\n",
    "            speak(\"Result is Normal\")\n",
    "        else:\n",
    "            print(\"Affected By PNEUMONIA\")\n",
    "            speak(\"Affected By PNEUMONIA\")\n",
    "\n",
    "\n",
    "if __name__ == \"__main__\":\n",
    "    import sys\n",
    "    app = QtWidgets.QApplication(sys.argv)\n",
    "    MainWindow = QtWidgets.QMainWindow()\n",
    "    ui = Ui_MainWindow()\n",
    "    ui.setupUi(MainWindow)\n",
    "    MainWindow.show()\n",
    "    sys.exit(app.exec_())"
   ]
  },
  {
   "cell_type": "code",
   "execution_count": null,
   "id": "aee6c040",
   "metadata": {},
   "outputs": [],
   "source": []
  }
 ],
 "metadata": {
  "kernelspec": {
   "display_name": "Python 3 (ipykernel)",
   "language": "python",
   "name": "python3"
  },
  "language_info": {
   "codemirror_mode": {
    "name": "ipython",
    "version": 3
   },
   "file_extension": ".py",
   "mimetype": "text/x-python",
   "name": "python",
   "nbconvert_exporter": "python",
   "pygments_lexer": "ipython3",
   "version": "3.9.7"
  }
 },
 "nbformat": 4,
 "nbformat_minor": 5
}
